{
 "cells": [
  {
   "cell_type": "code",
   "execution_count": null,
   "metadata": {},
   "outputs": [],
   "source": [
    "import pandas as pd\n",
    "\n",
    "import sqlalchemy\n",
    "from sqlalchemy.ext.automap import automap_base\n",
    "from sqlalchemy.orm import Session\n",
    "from sqlalchemy import create_engine, func\n",
    "from sqlalchemy import desc\n",
    "\n",
    "from flask import Flask, jsonify"
   ]
  },
  {
   "cell_type": "code",
   "execution_count": null,
   "metadata": {},
   "outputs": [],
   "source": [
    "#################################################\n",
    "# Database Setup\n",
    "#################################################\n",
    "engine = create_engine(\"superheroes.sqlite\")\n",
    "\n",
    "# reflect an existing database into a new model\n",
    "Base = automap_base()\n",
    "# reflect the tables\n",
    "Base.prepare(engine, reflect=True)\n",
    "\n",
    "# Save reference to the table\n",
    "Characters = Base.classes.characters\n",
    "Powerstats = Base.classes.powerstats\n",
    "Rwpowers = Base.classes.rwpowers\n",
    "Bio = Base.classes.bio"
   ]
  },
  {
   "cell_type": "code",
   "execution_count": null,
   "metadata": {},
   "outputs": [],
   "source": [
    "def characters():\n",
    "    session = Session(engine)\n",
    "    results = session.query(Characters).all()\n",
    "    session.close()\n",
    "\n",
    "    char_list = []\n",
    "    for name, alignment, gender in results:\n",
    "        char_dict = {}\n",
    "        char_dict[\"ID\"] = ID\n",
    "        char_dict[\"Name\"] = name\n",
    "        char_dict[\"Alignment\"] = alignment\n",
    "        char_dict[\"Gender\"] = gender\n",
    "        char_dict[\"Eyecolor\"] = eyecolor\n",
    "        char_dict[\"Race\"] = race\n",
    "        char_dict[\"HairColor\"] = haircolor\n",
    "        char_dict[\"Publisher\"] = publisher\n",
    "        char_dict[\"SkinColor\"] = skincolor\n",
    "        char_dict[\"Height\"] = height\n",
    "        char_dict[\"Weight\"] = weight\n",
    "        _list.append(char_dict)\n",
    "    \n",
    "    return jsonify(char_list)"
   ]
  }
 ],
 "metadata": {
  "kernelspec": {
   "display_name": "Python 3",
   "language": "python",
   "name": "python3"
  },
  "language_info": {
   "codemirror_mode": {
    "name": "ipython",
    "version": 3
   },
   "file_extension": ".py",
   "mimetype": "text/x-python",
   "name": "python",
   "nbconvert_exporter": "python",
   "pygments_lexer": "ipython3",
   "version": "3.6.10"
  },
  "toc": {
   "base_numbering": 1,
   "nav_menu": {},
   "number_sections": true,
   "sideBar": true,
   "skip_h1_title": false,
   "title_cell": "Table of Contents",
   "title_sidebar": "Contents",
   "toc_cell": false,
   "toc_position": {},
   "toc_section_display": true,
   "toc_window_display": false
  }
 },
 "nbformat": 4,
 "nbformat_minor": 4
}
